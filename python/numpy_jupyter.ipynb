{
 "cells": [
  {
   "cell_type": "code",
   "execution_count": 1,
   "metadata": {},
   "outputs": [
    {
     "data": {
      "text/plain": [
       "numpy.ndarray"
      ]
     },
     "execution_count": 1,
     "metadata": {},
     "output_type": "execute_result"
    }
   ],
   "source": [
    "import numpy as np\n",
    "x = np.array([5, 8, \n",
    "              9, 10, \n",
    "              11]) # using 'array' method\n",
    "\n",
    "type(x)   # Displays type of array 'x'"
   ]
  },
  {
   "cell_type": "code",
   "execution_count": 2,
   "metadata": {},
   "outputs": [
    {
     "data": {
      "text/plain": [
       "array([ 5,  8,  9, 10, 11])"
      ]
     },
     "execution_count": 2,
     "metadata": {},
     "output_type": "execute_result"
    }
   ],
   "source": [
    "x"
   ]
  },
  {
   "cell_type": "code",
   "execution_count": 3,
   "metadata": {},
   "outputs": [
    {
     "name": "stdout",
     "output_type": "stream",
     "text": [
      "[[ 6  9  5]\n",
      " [10 82 34]]\n"
     ]
    }
   ],
   "source": [
    "y = np.array([[6, 9, 5], \n",
    "              [10, 82, 34]])  \n",
    "print(y)"
   ]
  },
  {
   "cell_type": "code",
   "execution_count": 5,
   "metadata": {},
   "outputs": [
    {
     "data": {
      "text/plain": [
       "2"
      ]
     },
     "execution_count": 5,
     "metadata": {},
     "output_type": "execute_result"
    }
   ],
   "source": [
    "y.ndim"
   ]
  },
  {
   "cell_type": "code",
   "execution_count": 6,
   "metadata": {},
   "outputs": [
    {
     "data": {
      "text/plain": [
       "dtype('int64')"
      ]
     },
     "execution_count": 6,
     "metadata": {},
     "output_type": "execute_result"
    }
   ],
   "source": [
    "y.dtype"
   ]
  },
  {
   "cell_type": "code",
   "execution_count": 7,
   "metadata": {},
   "outputs": [
    {
     "data": {
      "text/plain": [
       "(2, 3)"
      ]
     },
     "execution_count": 7,
     "metadata": {},
     "output_type": "execute_result"
    }
   ],
   "source": [
    "y.shape"
   ]
  },
  {
   "cell_type": "code",
   "execution_count": 8,
   "metadata": {},
   "outputs": [
    {
     "data": {
      "text/plain": [
       "6"
      ]
     },
     "execution_count": 8,
     "metadata": {},
     "output_type": "execute_result"
    }
   ],
   "source": [
    "y.size"
   ]
  },
  {
   "cell_type": "code",
   "execution_count": 9,
   "metadata": {},
   "outputs": [
    {
     "data": {
      "text/plain": [
       "8"
      ]
     },
     "execution_count": 9,
     "metadata": {},
     "output_type": "execute_result"
    }
   ],
   "source": [
    "y.itemsize"
   ]
  },
  {
   "cell_type": "code",
   "execution_count": 10,
   "metadata": {},
   "outputs": [
    {
     "data": {
      "text/plain": [
       "48"
      ]
     },
     "execution_count": 10,
     "metadata": {},
     "output_type": "execute_result"
    }
   ],
   "source": [
    "y.nbytes"
   ]
  },
  {
   "cell_type": "code",
   "execution_count": 11,
   "metadata": {},
   "outputs": [
    {
     "data": {
      "text/plain": [
       "array([[ 6,  9,  5],\n",
       "       [10, 82, 34]])"
      ]
     },
     "execution_count": 11,
     "metadata": {},
     "output_type": "execute_result"
    }
   ],
   "source": [
    "y"
   ]
  },
  {
   "cell_type": "code",
   "execution_count": 12,
   "metadata": {},
   "outputs": [
    {
     "data": {
      "text/plain": [
       "dtype('int64')"
      ]
     },
     "execution_count": 12,
     "metadata": {},
     "output_type": "execute_result"
    }
   ],
   "source": [
    "y.dtype"
   ]
  },
  {
   "cell_type": "code",
   "execution_count": 13,
   "metadata": {},
   "outputs": [
    {
     "name": "stdout",
     "output_type": "stream",
     "text": [
      "[[ 6.  9.  5.]\n",
      " [10. 82. 34.]]\n",
      "float64\n"
     ]
    }
   ],
   "source": [
    "y2 = np.array([[6, 9, 5],\n",
    "              [10, 82, 34]], \n",
    "             dtype='float64')  \n",
    "print(y2)\n",
    "print(y2.dtype)"
   ]
  },
  {
   "cell_type": "code",
   "execution_count": 15,
   "metadata": {},
   "outputs": [
    {
     "data": {
      "text/plain": [
       "(2, 3)"
      ]
     },
     "execution_count": 15,
     "metadata": {},
     "output_type": "execute_result"
    }
   ],
   "source": [
    "y2.shape"
   ]
  },
  {
   "cell_type": "markdown",
   "metadata": {},
   "source": [
    "y2.flags"
   ]
  },
  {
   "cell_type": "code",
   "execution_count": 16,
   "metadata": {},
   "outputs": [
    {
     "data": {
      "text/plain": [
       "  C_CONTIGUOUS : True\n",
       "  F_CONTIGUOUS : False\n",
       "  OWNDATA : True\n",
       "  WRITEABLE : True\n",
       "  ALIGNED : True\n",
       "  WRITEBACKIFCOPY : False\n",
       "  UPDATEIFCOPY : False"
      ]
     },
     "execution_count": 16,
     "metadata": {},
     "output_type": "execute_result"
    }
   ],
   "source": [
    "y2.flags"
   ]
  },
  {
   "cell_type": "code",
   "execution_count": 17,
   "metadata": {},
   "outputs": [
    {
     "name": "stdout",
     "output_type": "stream",
     "text": [
      "8\n"
     ]
    }
   ],
   "source": [
    "import numpy as np\n",
    "\n",
    "x = np.array([[3.2, 7.8, 9.2],\n",
    "             [4.5, 9.1, 1.2]], dtype='int64')\n",
    "print(x.itemsize)"
   ]
  },
  {
   "cell_type": "code",
   "execution_count": 19,
   "metadata": {},
   "outputs": [
    {
     "data": {
      "text/plain": [
       "dtype('int64')"
      ]
     },
     "execution_count": 19,
     "metadata": {},
     "output_type": "execute_result"
    }
   ],
   "source": [
    "import numpy as np\n",
    "n = [5, 10, 15, 20, 25]\n",
    "x=np.array(n)\n",
    "x.dtype"
   ]
  },
  {
   "cell_type": "code",
   "execution_count": 21,
   "metadata": {},
   "outputs": [
    {
     "data": {
      "text/plain": [
       "1"
      ]
     },
     "execution_count": 21,
     "metadata": {},
     "output_type": "execute_result"
    }
   ],
   "source": [
    "x.ndim"
   ]
  },
  {
   "cell_type": "code",
   "execution_count": 25,
   "metadata": {},
   "outputs": [
    {
     "data": {
      "text/plain": [
       "(5,)"
      ]
     },
     "execution_count": 25,
     "metadata": {},
     "output_type": "execute_result"
    }
   ],
   "source": [
    "x.shape"
   ]
  },
  {
   "cell_type": "code",
   "execution_count": 26,
   "metadata": {},
   "outputs": [
    {
     "data": {
      "text/plain": [
       "5"
      ]
     },
     "execution_count": 26,
     "metadata": {},
     "output_type": "execute_result"
    }
   ],
   "source": [
    "x.size"
   ]
  },
  {
   "cell_type": "code",
   "execution_count": 27,
   "metadata": {},
   "outputs": [],
   "source": [
    "m = [[-1, -2, -3, -4], [-2,-4, -6, -8]]"
   ]
  },
  {
   "cell_type": "code",
   "execution_count": 29,
   "metadata": {},
   "outputs": [
    {
     "data": {
      "text/plain": [
       "dtype('int64')"
      ]
     },
     "execution_count": 29,
     "metadata": {},
     "output_type": "execute_result"
    }
   ],
   "source": [
    "y=np.array(m)\n",
    "y.dtype"
   ]
  },
  {
   "cell_type": "code",
   "execution_count": 31,
   "metadata": {},
   "outputs": [
    {
     "data": {
      "text/plain": [
       "2"
      ]
     },
     "execution_count": 31,
     "metadata": {},
     "output_type": "execute_result"
    }
   ],
   "source": [
    "y.ndim"
   ]
  },
  {
   "cell_type": "code",
   "execution_count": 32,
   "metadata": {},
   "outputs": [
    {
     "data": {
      "text/plain": [
       "(2, 4)"
      ]
     },
     "execution_count": 32,
     "metadata": {},
     "output_type": "execute_result"
    }
   ],
   "source": [
    "y.shape"
   ]
  },
  {
   "cell_type": "code",
   "execution_count": 33,
   "metadata": {},
   "outputs": [
    {
     "data": {
      "text/plain": [
       "8"
      ]
     },
     "execution_count": 33,
     "metadata": {},
     "output_type": "execute_result"
    }
   ],
   "source": [
    "y.size"
   ]
  },
  {
   "cell_type": "code",
   "execution_count": 34,
   "metadata": {},
   "outputs": [
    {
     "data": {
      "text/plain": [
       "8"
      ]
     },
     "execution_count": 34,
     "metadata": {},
     "output_type": "execute_result"
    }
   ],
   "source": [
    "y.itemsize"
   ]
  },
  {
   "cell_type": "code",
   "execution_count": 35,
   "metadata": {},
   "outputs": [
    {
     "data": {
      "text/plain": [
       "8"
      ]
     },
     "execution_count": 35,
     "metadata": {},
     "output_type": "execute_result"
    }
   ],
   "source": [
    "y.size"
   ]
  },
  {
   "cell_type": "code",
   "execution_count": 36,
   "metadata": {},
   "outputs": [
    {
     "data": {
      "text/plain": [
       "dtype('int64')"
      ]
     },
     "execution_count": 36,
     "metadata": {},
     "output_type": "execute_result"
    }
   ],
   "source": [
    "y.dtype"
   ]
  },
  {
   "cell_type": "code",
   "execution_count": 46,
   "metadata": {},
   "outputs": [
    {
     "data": {
      "text/plain": [
       "(numpy.ndarray, 3, (2, 3, 2))"
      ]
     },
     "execution_count": 46,
     "metadata": {},
     "output_type": "execute_result"
    }
   ],
   "source": [
    "import numpy as np\n",
    "a = [[[4.1, 2.5], [1.1, 2.3], [9.1, 2.5]], \n",
    "     [[8.6, 9.9],[3.6, 4.3], [6.6, 0.3]]]\n",
    "\n",
    "x = np.array(a, dtype='float64')\n",
    "\n",
    "type(x), x.ndim, x.shape, "
   ]
  },
  {
   "cell_type": "code",
   "execution_count": 47,
   "metadata": {},
   "outputs": [
    {
     "name": "stdout",
     "output_type": "stream",
     "text": [
      "[[0. 0. 0. 0.]\n",
      " [0. 0. 0. 0.]]\n"
     ]
    }
   ],
   "source": [
    "x = np.zeros(shape=(2,4))\n",
    "print(x)"
   ]
  },
  {
   "cell_type": "code",
   "execution_count": 48,
   "metadata": {},
   "outputs": [
    {
     "name": "stdout",
     "output_type": "stream",
     "text": [
      "[[10.5 10.5 10.5]\n",
      " [10.5 10.5 10.5]]\n"
     ]
    }
   ],
   "source": [
    "y = np.full(shape=(2,3), fill_value=10.5)\n",
    "print(y)"
   ]
  },
  {
   "cell_type": "code",
   "execution_count": 49,
   "metadata": {},
   "outputs": [
    {
     "name": "stdout",
     "output_type": "stream",
     "text": [
      "[ 3.   5.5  8.  10.5 13. ]\n"
     ]
    }
   ],
   "source": [
    "x1 = np.arange(3, 15, 2.5) # 2.5 is step\n",
    "print(x1)"
   ]
  },
  {
   "cell_type": "code",
   "execution_count": 54,
   "metadata": {},
   "outputs": [
    {
     "name": "stdout",
     "output_type": "stream",
     "text": [
      "[ 1.  14.5 28.  41.5 55. ]\n"
     ]
    }
   ],
   "source": [
    "y11= np.linspace(1,55,5)\n",
    "print(y11)"
   ]
  },
  {
   "cell_type": "code",
   "execution_count": 56,
   "metadata": {},
   "outputs": [
    {
     "name": "stdout",
     "output_type": "stream",
     "text": [
      "[0.54340494 0.27836939 0.42451759 0.84477613 0.00471886]\n"
     ]
    }
   ],
   "source": [
    "np.random.seed(100) # setting seed\n",
    "x2 = np.random.rand(5) # 2 random numbers between 0 and 1\n",
    "\n",
    "print(x2)"
   ]
  },
  {
   "cell_type": "code",
   "execution_count": 57,
   "metadata": {},
   "outputs": [
    {
     "name": "stdout",
     "output_type": "stream",
     "text": [
      "[44 12 44]\n"
     ]
    }
   ],
   "source": [
    "y = np.random.randint(10, 50, 3) # 3 random integers between 10 and 50\n",
    "\n",
    "print(y)"
   ]
  },
  {
   "cell_type": "code",
   "execution_count": 58,
   "metadata": {},
   "outputs": [
    {
     "name": "stdout",
     "output_type": "stream",
     "text": [
      "[-1.74976547  0.3426804   1.1530358 ]\n"
     ]
    }
   ],
   "source": [
    "np.random.seed(100)\n",
    "x = np.random.randn(3) # Standard normal distribution\n",
    "\n",
    "print(x)"
   ]
  },
  {
   "cell_type": "code",
   "execution_count": 61,
   "metadata": {},
   "outputs": [
    {
     "name": "stdout",
     "output_type": "stream",
     "text": [
      "[ 6.50046905 10.68536081 12.30607161]\n"
     ]
    }
   ],
   "source": [
    "np.random.seed(100)\n",
    "x = 10 + 2*np.random.randn(3) # normal distribution with mean 10 and sd 2\n",
    "\n",
    "print(x)"
   ]
  },
  {
   "cell_type": "code",
   "execution_count": 62,
   "metadata": {},
   "outputs": [
    {
     "name": "stdout",
     "output_type": "stream",
     "text": [
      "[ 9.49512793 11.96264157 11.02843768]\n"
     ]
    }
   ],
   "source": [
    "x = 10 + 2*np.random.randn(3) # normal distribution with mean 10 and sd 2\n",
    "\n",
    "print(x)"
   ]
  },
  {
   "cell_type": "code",
   "execution_count": 63,
   "metadata": {},
   "outputs": [
    {
     "name": "stdout",
     "output_type": "stream",
     "text": [
      "[[88.25 93.45 72.6  90.9 ]\n",
      " [72.3  78.85 92.15 65.75]\n",
      " [90.5  92.45 89.25 94.5 ]]\n",
      "2 (3, 4)\n"
     ]
    }
   ],
   "source": [
    "from io import StringIO\n",
    "import numpy as np\n",
    "\n",
    "x = StringIO('''88.25 93.45 72.60 90.90\n",
    "72.3 78.85 92.15 65.75\n",
    "90.5 92.45 89.25 94.50\n",
    "''')\n",
    "\n",
    "d = np.loadtxt(x,delimiter=' ')\n",
    "\n",
    "print(d)\n",
    "\n",
    "print(d.ndim, d.shape)"
   ]
  },
  {
   "cell_type": "code",
   "execution_count": 69,
   "metadata": {},
   "outputs": [
    {
     "name": "stdout",
     "output_type": "stream",
     "text": [
      "[[1. 0.]\n",
      " [0. 1.]]\n"
     ]
    }
   ],
   "source": [
    "z = np.eye(2)\n",
    "print(z)"
   ]
  },
  {
   "cell_type": "code",
   "execution_count": 71,
   "metadata": {},
   "outputs": [
    {
     "name": "stdout",
     "output_type": "stream",
     "text": [
      "(2, 2)\n"
     ]
    }
   ],
   "source": [
    "print(np.array(([1, 2], (3,4))).shape)"
   ]
  },
  {
   "cell_type": "code",
   "execution_count": 72,
   "metadata": {},
   "outputs": [
    {
     "name": "stdout",
     "output_type": "stream",
     "text": [
      "[[0 0 0]\n",
      " [0 0 0]]\n"
     ]
    }
   ],
   "source": [
    "import numpy as np\n",
    "\n",
    "x = np.array([[-1,0,1], [-2, 0, 2]])\n",
    "\n",
    "y = np.zeros_like(x)\n",
    "print(y)"
   ]
  },
  {
   "cell_type": "code",
   "execution_count": 79,
   "metadata": {},
   "outputs": [],
   "source": [
    "x3=np.array([[[-1,1],[-2,2]],[[-3, 3], [-4, 4]]])"
   ]
  },
  {
   "cell_type": "code",
   "execution_count": 80,
   "metadata": {},
   "outputs": [
    {
     "data": {
      "text/plain": [
       "dtype('int64')"
      ]
     },
     "execution_count": 80,
     "metadata": {},
     "output_type": "execute_result"
    }
   ],
   "source": [
    "x3.dtype"
   ]
  },
  {
   "cell_type": "code",
   "execution_count": 81,
   "metadata": {},
   "outputs": [
    {
     "data": {
      "text/plain": [
       "3"
      ]
     },
     "execution_count": 81,
     "metadata": {},
     "output_type": "execute_result"
    }
   ],
   "source": [
    "x3.ndim"
   ]
  },
  {
   "cell_type": "code",
   "execution_count": 82,
   "metadata": {},
   "outputs": [
    {
     "data": {
      "text/plain": [
       "(2, 2, 2)"
      ]
     },
     "execution_count": 82,
     "metadata": {},
     "output_type": "execute_result"
    }
   ],
   "source": [
    "x3.shape"
   ]
  },
  {
   "cell_type": "code",
   "execution_count": 83,
   "metadata": {},
   "outputs": [
    {
     "data": {
      "text/plain": [
       "8"
      ]
     },
     "execution_count": 83,
     "metadata": {},
     "output_type": "execute_result"
    }
   ],
   "source": [
    "x3.size"
   ]
  },
  {
   "cell_type": "code",
   "execution_count": 84,
   "metadata": {},
   "outputs": [
    {
     "data": {
      "text/plain": [
       "8"
      ]
     },
     "execution_count": 84,
     "metadata": {},
     "output_type": "execute_result"
    }
   ],
   "source": [
    "x3.itemsize"
   ]
  },
  {
   "cell_type": "code",
   "execution_count": 85,
   "metadata": {},
   "outputs": [
    {
     "name": "stdout",
     "output_type": "stream",
     "text": [
      "[[[1 1]\n",
      "  [1 1]]\n",
      "\n",
      " [[1 1]\n",
      "  [1 1]]\n",
      "\n",
      " [[1 1]\n",
      "  [1 1]]]\n"
     ]
    }
   ],
   "source": [
    "x4=np.full(shape=(3,2,2), fill_value=1)\n",
    "print(x4)"
   ]
  },
  {
   "cell_type": "code",
   "execution_count": 87,
   "metadata": {},
   "outputs": [
    {
     "name": "stdout",
     "output_type": "stream",
     "text": [
      "[[1. 0. 0.]\n",
      " [0. 1. 0.]\n",
      " [0. 0. 1.]]\n"
     ]
    }
   ],
   "source": [
    "x5=np.eye(3, k=0)\n",
    "print(x5)"
   ]
  },
  {
   "cell_type": "code",
   "execution_count": 91,
   "metadata": {},
   "outputs": [
    {
     "name": "stdout",
     "output_type": "stream",
     "text": [
      "[[[0.10837689 0.21969749]\n",
      "  [0.97862378 0.81168315]\n",
      "  [0.17194101 0.81622475]\n",
      "  [0.27407375 0.43170418]]\n",
      "\n",
      " [[0.94002982 0.81764938]\n",
      "  [0.33611195 0.17541045]\n",
      "  [0.37283205 0.00568851]\n",
      "  [0.25242635 0.79566251]]\n",
      "\n",
      " [[0.01525497 0.59884338]\n",
      "  [0.60380454 0.10514769]\n",
      "  [0.38194344 0.03647606]\n",
      "  [0.89041156 0.98092086]]]\n"
     ]
    }
   ],
   "source": [
    "x4=np.random.rand(24).reshape(3, 4,2)\n",
    "print(x4)"
   ]
  },
  {
   "cell_type": "code",
   "execution_count": 94,
   "metadata": {},
   "outputs": [
    {
     "name": "stdout",
     "output_type": "stream",
     "text": [
      "[ 8.91794696  6.24256179  7.88968084  9.59652919  8.83931654  5.63749432\n",
      "  2.88960687  2.54264136  4.23475542  7.09625153  0.7728796   7.87793414\n",
      "  2.42665788  3.72251953 -0.90067634  5.25898783  9.34704432  8.10468961\n",
      "  5.33103189  6.44448489]\n"
     ]
    }
   ],
   "source": [
    "x5=5+2.5*np.random.randn(20)\n",
    "print(x5)"
   ]
  },
  {
   "cell_type": "code",
   "execution_count": 101,
   "metadata": {},
   "outputs": [
    {
     "data": {
      "text/plain": [
       "array([ 2,  4,  6,  8, 10, 12, 14, 16, 18, 20, 22, 24, 26, 28, 30, 32, 34,\n",
       "       36, 38, 40])"
      ]
     },
     "execution_count": 101,
     "metadata": {},
     "output_type": "execute_result"
    }
   ],
   "source": [
    "x6=np.arange(2,42,2)\n",
    "x6"
   ]
  },
  {
   "cell_type": "code",
   "execution_count": 102,
   "metadata": {},
   "outputs": [
    {
     "data": {
      "text/plain": [
       "array([10.        , 10.34482759, 10.68965517, 11.03448276, 11.37931034,\n",
       "       11.72413793, 12.06896552, 12.4137931 , 12.75862069, 13.10344828,\n",
       "       13.44827586, 13.79310345, 14.13793103, 14.48275862, 14.82758621,\n",
       "       15.17241379, 15.51724138, 15.86206897, 16.20689655, 16.55172414,\n",
       "       16.89655172, 17.24137931, 17.5862069 , 17.93103448, 18.27586207,\n",
       "       18.62068966, 18.96551724, 19.31034483, 19.65517241, 20.        ])"
      ]
     },
     "execution_count": 102,
     "metadata": {},
     "output_type": "execute_result"
    }
   ],
   "source": [
    "x7=np.linspace(10,20,30)\n",
    "x7"
   ]
  },
  {
   "cell_type": "code",
   "execution_count": 103,
   "metadata": {},
   "outputs": [
    {
     "name": "stdout",
     "output_type": "stream",
     "text": [
      "[18 34 77 97 89 58 20 62]\n",
      "\n",
      "[[18 34 77 97]\n",
      " [89 58 20 62]]\n",
      "\n",
      "[[[18 34]\n",
      "  [77 97]]\n",
      "\n",
      " [[89 58]\n",
      "  [20 62]]] \n",
      "\n",
      "\n"
     ]
    }
   ],
   "source": [
    "import numpy as np\n",
    "np.random.seed(100)\n",
    "x = np.random.randint(10, 100, 8)\n",
    "print(x, end='\\n\\n')\n",
    "y = x.reshape(2,4)\n",
    "print(y, end='\\n\\n')\n",
    "z = x.reshape(2,2,2)\n",
    "print(z, '\\n\\n')"
   ]
  },
  {
   "cell_type": "code",
   "execution_count": 104,
   "metadata": {},
   "outputs": [
    {
     "data": {
      "text/plain": [
       "array([[-1,  1],\n",
       "       [-3,  3],\n",
       "       [-2,  2],\n",
       "       [-4,  4]])"
      ]
     },
     "execution_count": 104,
     "metadata": {},
     "output_type": "execute_result"
    }
   ],
   "source": [
    "import numpy as np\n",
    "x = np.array([[-1, 1], [-3, 3]])\n",
    "y = np.array([[-2, 2], [-4, 4]])\n",
    "np.vstack((x,y))"
   ]
  },
  {
   "cell_type": "code",
   "execution_count": 105,
   "metadata": {},
   "outputs": [
    {
     "data": {
      "text/plain": [
       "array([[-1,  1, -2,  2, -5,  5],\n",
       "       [-3,  3, -4,  4, -6,  6]])"
      ]
     },
     "execution_count": 105,
     "metadata": {},
     "output_type": "execute_result"
    }
   ],
   "source": [
    "import numpy as np\n",
    "x = np.array([[-1, 1], [-3, 3]])\n",
    "y = np.array([[-2, 2], [-4, 4]])\n",
    "z = np.array([[-5, 5], [-6, 6]])\n",
    "np.hstack((x,y,z))"
   ]
  },
  {
   "cell_type": "code",
   "execution_count": 106,
   "metadata": {},
   "outputs": [
    {
     "name": "stdout",
     "output_type": "stream",
     "text": [
      "[[ 0  1  2  3  4]\n",
      " [ 5  6  7  8  9]\n",
      " [10 11 12 13 14]]\n",
      "\n",
      "[[15 16 17 18 19]\n",
      " [20 21 22 23 24]\n",
      " [25 26 27 28 29]]\n"
     ]
    }
   ],
   "source": [
    "import numpy as np\n",
    "x = np.arange(30).reshape(6, 5)\n",
    "res = np.vsplit(x, 2)\n",
    "print(res[0], end='\\n\\n')\n",
    "print(res[1])"
   ]
  },
  {
   "cell_type": "code",
   "execution_count": 107,
   "metadata": {},
   "outputs": [
    {
     "name": "stdout",
     "output_type": "stream",
     "text": [
      "[[0 1]\n",
      " [5 6]]\n",
      "\n",
      "[[2 3]\n",
      " [7 8]]\n",
      "\n",
      "[[4]\n",
      " [9]]\n"
     ]
    }
   ],
   "source": [
    "import numpy as np\n",
    "x = np.arange(10).reshape(2, 5)\n",
    "res = np.hsplit(x, (2,4))\n",
    "print(res[0], end='\\n\\n')\n",
    "print(res[1], end='\\n\\n')\n",
    "print(res[2])"
   ]
  },
  {
   "cell_type": "code",
   "execution_count": 108,
   "metadata": {},
   "outputs": [
    {
     "name": "stdout",
     "output_type": "stream",
     "text": [
      "[0 1]\n",
      "\n"
     ]
    }
   ],
   "source": [
    "print(res[0][0], end='\\n\\n')"
   ]
  },
  {
   "cell_type": "code",
   "execution_count": 109,
   "metadata": {},
   "outputs": [
    {
     "name": "stdout",
     "output_type": "stream",
     "text": [
      "[5 6]\n",
      "\n"
     ]
    }
   ],
   "source": [
    "print(res[0][1], end='\\n\\n')"
   ]
  },
  {
   "cell_type": "code",
   "execution_count": 110,
   "metadata": {},
   "outputs": [
    {
     "ename": "ValueError",
     "evalue": "cannot reshape array of size 20 into shape (10,10)",
     "output_type": "error",
     "traceback": [
      "\u001b[0;31m---------------------------------------------------------------------------\u001b[0m",
      "\u001b[0;31mValueError\u001b[0m                                Traceback (most recent call last)",
      "\u001b[0;32m<ipython-input-110-0d07b1feec7d>\u001b[0m in \u001b[0;36m<module>\u001b[0;34m\u001b[0m\n\u001b[1;32m      1\u001b[0m \u001b[0;32mimport\u001b[0m \u001b[0mnumpy\u001b[0m \u001b[0;32mas\u001b[0m \u001b[0mnp\u001b[0m\u001b[0;34m\u001b[0m\u001b[0;34m\u001b[0m\u001b[0m\n\u001b[1;32m      2\u001b[0m \u001b[0;34m\u001b[0m\u001b[0m\n\u001b[0;32m----> 3\u001b[0;31m \u001b[0mx\u001b[0m \u001b[0;34m=\u001b[0m \u001b[0mnp\u001b[0m\u001b[0;34m.\u001b[0m\u001b[0marange\u001b[0m\u001b[0;34m(\u001b[0m\u001b[0;36m20\u001b[0m\u001b[0;34m)\u001b[0m\u001b[0;34m.\u001b[0m\u001b[0mreshape\u001b[0m\u001b[0;34m(\u001b[0m\u001b[0;36m10\u001b[0m\u001b[0;34m,\u001b[0m \u001b[0;36m10\u001b[0m\u001b[0;34m)\u001b[0m\u001b[0;34m\u001b[0m\u001b[0;34m\u001b[0m\u001b[0m\n\u001b[0m\u001b[1;32m      4\u001b[0m \u001b[0mx\u001b[0m\u001b[0;34m\u001b[0m\u001b[0;34m\u001b[0m\u001b[0m\n",
      "\u001b[0;31mValueError\u001b[0m: cannot reshape array of size 20 into shape (10,10)"
     ]
    }
   ],
   "source": [
    "import numpy as np\n",
    "\n",
    "x = np.arange(20).reshape(10, 10)\n",
    "x"
   ]
  },
  {
   "cell_type": "code",
   "execution_count": 113,
   "metadata": {},
   "outputs": [
    {
     "data": {
      "text/plain": [
       "array([[30, 31],\n",
       "       [32, 33],\n",
       "       [34, 35],\n",
       "       [36, 37],\n",
       "       [38, 39],\n",
       "       [40, 41],\n",
       "       [42, 43],\n",
       "       [44, 45],\n",
       "       [46, 47],\n",
       "       [48, 49],\n",
       "       [50, 51],\n",
       "       [52, 53],\n",
       "       [54, 55],\n",
       "       [56, 57],\n",
       "       [58, 59]])"
      ]
     },
     "execution_count": 113,
     "metadata": {},
     "output_type": "execute_result"
    }
   ],
   "source": [
    "import numpy as np\n",
    "\n",
    "x = np.arange(90).reshape(3, 15, 2)\n",
    "x[1]"
   ]
  },
  {
   "cell_type": "code",
   "execution_count": 118,
   "metadata": {},
   "outputs": [
    {
     "name": "stdout",
     "output_type": "stream",
     "text": [
      "[[ 0  1  2  3  4]\n",
      " [ 5  6  7  8  9]\n",
      " [10 11 12 13 14]\n",
      " [15 16 17 18 19]]\n"
     ]
    }
   ],
   "source": [
    "import numpy as np\n",
    "\n",
    "x = np.arange(20).reshape(4, 5)\n",
    "x.shape\n",
    "print(x)"
   ]
  },
  {
   "cell_type": "code",
   "execution_count": 123,
   "metadata": {},
   "outputs": [
    {
     "name": "stdout",
     "output_type": "stream",
     "text": [
      "(20,)\n",
      "[[ 0  1  2  3  4]\n",
      " [10 11 12 13 14]]\n",
      "[[ 5  6  7  8  9]\n",
      " [15 16 17 18 19]]\n"
     ]
    }
   ],
   "source": [
    "import numpy as np\n",
    "\n",
    "x = np.arange(20)\n",
    "print(x.shape)\n",
    "y=x.reshape(2,10)\n",
    "res = np.hsplit(y, (2))\n",
    "print(res[0])\n",
    "print(res[1])"
   ]
  },
  {
   "cell_type": "code",
   "execution_count": 125,
   "metadata": {},
   "outputs": [
    {
     "name": "stdout",
     "output_type": "stream",
     "text": [
      "[[0 1 2 3 4]\n",
      " [5 6 7 8 9]]\n",
      "[[10 11 12 13 14]\n",
      " [15 16 17 18 19]]\n"
     ]
    }
   ],
   "source": [
    "z=x.reshape(4,5)\n",
    "resz=np.vsplit(z,2)\n",
    "print(resz[0])\n",
    "print(resz[1])"
   ]
  },
  {
   "cell_type": "code",
   "execution_count": 128,
   "metadata": {},
   "outputs": [
    {
     "data": {
      "text/plain": [
       "array([[ 3,  6, 15, 18, 21],\n",
       "       [ 9, 12, 24, 27, 30]])"
      ]
     },
     "execution_count": 128,
     "metadata": {},
     "output_type": "execute_result"
    }
   ],
   "source": [
    "p=np.array([3, 6, 9, 12]).reshape(2,2)\n",
    "q=np.array([15, 18, 21, 24, 27, 30]).reshape(2,3)\n",
    "np.hstack((p,q))"
   ]
  },
  {
   "cell_type": "code",
   "execution_count": 1,
   "metadata": {},
   "outputs": [
    {
     "name": "stdout",
     "output_type": "stream",
     "text": [
      "[[10 11 12]\n",
      " [13 14 15]]\n",
      "\n",
      "[[ 0  3  6]\n",
      " [ 9 12 15]]\n",
      "\n",
      "[[0 1 0]\n",
      " [1 0 1]]\n"
     ]
    }
   ],
   "source": [
    "import numpy as np\n",
    "x = np.arange(6).reshape(2,3)\n",
    "print(x + 10, end='\\n\\n')\n",
    "print(x * 3, end='\\n\\n')\n",
    "print(x % 2)"
   ]
  },
  {
   "cell_type": "code",
   "execution_count": 2,
   "metadata": {},
   "outputs": [
    {
     "name": "stdout",
     "output_type": "stream",
     "text": [
      "[[ 3 -3]\n",
      " [ 3 -3]]\n",
      "\n",
      "[[ -4  -4]\n",
      " [-10 -10]]\n"
     ]
    }
   ],
   "source": [
    "import numpy as np\n",
    "x = np.array([[-1, 1], [-2, 2]])\n",
    "y = np.array([[4, -4], [5, -5]])\n",
    "print(x + y, end='\\n\\n')\n",
    "print(x * y)"
   ]
  },
  {
   "cell_type": "code",
   "execution_count": 3,
   "metadata": {},
   "outputs": [
    {
     "name": "stdout",
     "output_type": "stream",
     "text": [
      "[[10 10]\n",
      " [20 20]]\n"
     ]
    }
   ],
   "source": [
    "import numpy as np\n",
    "x = np.array([[-1, 1], [-2, 2]])\n",
    "y = np.array([-10, 10])\n",
    "print(x * y)"
   ]
  },
  {
   "cell_type": "code",
   "execution_count": 5,
   "metadata": {},
   "outputs": [
    {
     "name": "stdout",
     "output_type": "stream",
     "text": [
      "[[0 1]\n",
      " [4 9]]\n",
      "\n",
      "[[0.         0.84147098]\n",
      " [0.90929743 0.14112001]]\n"
     ]
    }
   ],
   "source": [
    "import numpy as np\n",
    "x = np.array([[0,1], [2,3]])\n",
    "print(np.square(x), end='\\n\\n')\n",
    "print(np.sin(x))"
   ]
  },
  {
   "cell_type": "code",
   "execution_count": 8,
   "metadata": {},
   "outputs": [
    {
     "name": "stdout",
     "output_type": "stream",
     "text": [
      "6\n",
      "\n",
      "[2 4]\n",
      "\n",
      "[1 5]\n"
     ]
    }
   ],
   "source": [
    "import numpy as np\n",
    "x = np.array([[0,1], [2, 3]])\n",
    "print(x.sum(), end='\\n\\n')\n",
    "print(x.sum(axis=0), end='\\n\\n')\n",
    "print(x.sum(axis=1))"
   ]
  },
  {
   "cell_type": "code",
   "execution_count": 10,
   "metadata": {},
   "outputs": [
    {
     "name": "stdout",
     "output_type": "stream",
     "text": [
      "[[ 0  1  2  3  4]\n",
      " [ 5  6  7  8  9]\n",
      " [10 11 12 13 14]\n",
      " [15 16 17 18 19]]\n",
      "[ 2.  7. 12. 17.]\n"
     ]
    }
   ],
   "source": [
    "import numpy as np\n",
    "\n",
    "x = np.arange(20).reshape(4,5)\n",
    "print(x)\n",
    "print(x.mean(axis=1))"
   ]
  },
  {
   "cell_type": "code",
   "execution_count": 14,
   "metadata": {},
   "outputs": [
    {
     "name": "stdout",
     "output_type": "stream",
     "text": [
      "[[ 0  1  2  3  4  5]\n",
      " [ 6  7  8  9 10 11]\n",
      " [12 13 14 15 16 17]\n",
      " [18 19 20 21 22 23]\n",
      " [24 25 26 27 28 29]]\n",
      "[5 5 5 5 5]\n",
      "[4 4 4 4 4 4]\n"
     ]
    }
   ],
   "source": [
    "import numpy as np\n",
    "\n",
    "x = np.arange(30).reshape(5,6)\n",
    "print(x)\n",
    "print(x.argmax(axis=1))\n",
    "print(x.argmax(axis=0))"
   ]
  },
  {
   "cell_type": "code",
   "execution_count": 15,
   "metadata": {},
   "outputs": [
    {
     "name": "stdout",
     "output_type": "stream",
     "text": [
      "[[0 1]\n",
      " [2 3]]\n",
      "[[ True  True]\n",
      " [ True  True]]\n"
     ]
    }
   ],
   "source": [
    "import numpy as np\n",
    "\n",
    "x = np.arange(4).reshape(2,2)\n",
    "print(x)\n",
    "print(np.isfinite(x))"
   ]
  },
  {
   "cell_type": "code",
   "execution_count": 16,
   "metadata": {},
   "outputs": [
    {
     "name": "stdout",
     "output_type": "stream",
     "text": [
      "[3 3 3 3]\n"
     ]
    }
   ],
   "source": [
    "import numpy as np\n",
    "\n",
    "print(np.repeat(3, 4))"
   ]
  },
  {
   "cell_type": "code",
   "execution_count": 19,
   "metadata": {},
   "outputs": [
    {
     "name": "stdout",
     "output_type": "stream",
     "text": [
      "[[ 0  1  4]\n",
      " [ 9 16 25]]\n",
      "[[ 5  6  9]\n",
      " [14 21 30]]\n"
     ]
    }
   ],
   "source": [
    "import numpy as np\n",
    "y = np.arange(6).reshape(2,3)\n",
    "print(np.square(y))\n",
    "print(np.square(y)+5)"
   ]
  },
  {
   "cell_type": "code",
   "execution_count": 25,
   "metadata": {},
   "outputs": [
    {
     "name": "stdout",
     "output_type": "stream",
     "text": [
      "[[-18 -26   7 -25  17  26]\n",
      " [  1   3   9   0  -3  20]\n",
      " [-14  23  25 -29  29   9]\n",
      " [ 29  10  22  -8  21 -15]\n",
      " [-16  17   1  25  19   1]]\n",
      "[-18  27  64 -37  83  41]\n",
      "[-19  30  43  59  47]\n"
     ]
    }
   ],
   "source": [
    "import numpy as np\n",
    "y = np.random.randint(-30,30,30).reshape(5,6)\n",
    "print(y)\n",
    "print(y.sum(axis=0))\n",
    "print(y.sum(axis=1))"
   ]
  },
  {
   "cell_type": "code",
   "execution_count": 33,
   "metadata": {},
   "outputs": [
    {
     "name": "stdout",
     "output_type": "stream",
     "text": [
      "[11.04041468 10.16185054 11.55836042 11.56409796 10.02690191 10.20265994\n",
      " 11.14422087 10.28870578 11.88556178 11.01583604 10.73453726 10.56710115\n",
      " 11.26665136 10.68035422 10.19034372 10.66366081 10.08944445 10.80241613\n",
      " 10.07313497 11.4671186  11.01290065 10.16715457 11.69556109 10.83117622\n",
      " 10.21618635 11.21456263 10.8127965  11.54980846 10.15710729 10.48239617\n",
      " 11.85811541 11.1368819  11.7674728  11.79728646 10.51106265 11.78688618\n",
      " 11.24645108 10.14632311 10.34572177 11.4510926  11.57794234 11.4023316\n",
      " 10.62904223 10.11206579 10.89445945 10.17321149 11.81582996 10.35937953\n",
      " 11.12774678 10.08821707]\n",
      "10.875810854392267\n",
      "0.6013930482017269\n",
      "0.3616735984253646\n"
     ]
    }
   ],
   "source": [
    "import numpy as np\n",
    "x = 10+2*np.random.rand(50)\n",
    "print(x)\n",
    "print(x.mean())\n",
    "print(x.std())\n",
    "print(x.var())"
   ]
  },
  {
   "cell_type": "code",
   "execution_count": 34,
   "metadata": {},
   "outputs": [
    {
     "name": "stdout",
     "output_type": "stream",
     "text": [
      "10\n",
      "[10 15 20 25 30]\n",
      "[10 25]\n"
     ]
    }
   ],
   "source": [
    "x = np.array([5, 10, 15, 20, 25, 30, 35])\n",
    "print(x[1])  # Indexing\n",
    "print(x[1:6]) # Slicing\n",
    "print(x[1:6:3]) # Slicing"
   ]
  },
  {
   "cell_type": "code",
   "execution_count": 35,
   "metadata": {},
   "outputs": [],
   "source": [
    "#ARRAY-INDEXING"
   ]
  },
  {
   "cell_type": "code",
   "execution_count": 36,
   "metadata": {},
   "outputs": [
    {
     "name": "stdout",
     "output_type": "stream",
     "text": [
      "[[4 5]]\n",
      "[3 4 5]\n",
      "[1 4]\n"
     ]
    }
   ],
   "source": [
    "import numpy as np\n",
    "y = np.array([[0, 1, 2],\n",
    "              [3, 4, 5]])\n",
    "print(y[1:2, 1:3]) \n",
    "print(y[1])   \n",
    "print(y[:, 1]) "
   ]
  },
  {
   "cell_type": "code",
   "execution_count": 42,
   "metadata": {},
   "outputs": [],
   "source": [
    "x=np.arange(90).reshape(9,10)\n",
    "print(x[4,5])\n",
    "print(x[5,4])"
   ]
  },
  {
   "cell_type": "code",
   "execution_count": 57,
   "metadata": {},
   "outputs": [
    {
     "name": "stdout",
     "output_type": "stream",
     "text": [
      "(3, 2, 2)\n",
      "[4 5]\n",
      "[[-5  5]\n",
      " [-9  9]]\n",
      "[[-7  7]\n",
      " [-9  9]]\n",
      "[[-1  1]\n",
      " [-2  2]]\n",
      "[[-4  4]\n",
      " [-5  5]]\n",
      "[[-7  7]\n",
      " [-9  9]]\n"
     ]
    }
   ],
   "source": [
    "z = np.array([[[-1, 1], [-2, 2]],\n",
    "              [[-4, 4], [-5, 5]],\n",
    "              [[-7, 7], [-9, 9]]])\n",
    "print(z.shape)\n",
    "print(z[1,:,1]) # index 1 element in row of index 1\n",
    "print(z[1:,1,:]) # From all outer rows except the first, select 1st index element (which itself is an array) completely.\n",
    "print(z[2]) # print 2nd index element\n",
    "\n",
    "#print(z[2,1])\n",
    "#print(z[1,:,1])\n",
    "print(z[0])\n",
    "print(z[1])\n",
    "print(z[2])"
   ]
  },
  {
   "cell_type": "code",
   "execution_count": 58,
   "metadata": {},
   "outputs": [
    {
     "name": "stdout",
     "output_type": "stream",
     "text": [
      "Row : [-1  1]\n",
      "Row : [-2  2]\n"
     ]
    }
   ],
   "source": [
    "x = np.array([[-1, 1], [-2, 2]])\n",
    "for row in x:\n",
    "    print('Row :',row)"
   ]
  },
  {
   "cell_type": "code",
   "execution_count": 59,
   "metadata": {},
   "outputs": [
    {
     "name": "stdout",
     "output_type": "stream",
     "text": [
      "0\n",
      "1\n",
      "2\n",
      "3\n"
     ]
    }
   ],
   "source": [
    "import numpy as np\n",
    "x = np.array([[0,1], [2, 3]])\n",
    "for a in np.nditer(x):\n",
    "    print(a)"
   ]
  },
  {
   "cell_type": "code",
   "execution_count": 60,
   "metadata": {},
   "outputs": [
    {
     "name": "stdout",
     "output_type": "stream",
     "text": [
      "[[ True False  True False  True]\n",
      " [False  True False  True False]]\n",
      "[0 2 4 6 8]\n"
     ]
    }
   ],
   "source": [
    "import numpy as np\n",
    "x = np.arange(10).reshape(2,5)\n",
    "condition = x % 2 == 0\n",
    "print(condition)\n",
    "print(x[condition])"
   ]
  },
  {
   "cell_type": "code",
   "execution_count": 64,
   "metadata": {},
   "outputs": [
    {
     "name": "stdout",
     "output_type": "stream",
     "text": [
      "[[[ 0  1]\n",
      "  [ 2  3]\n",
      "  [ 4  5]\n",
      "  [ 6  7]\n",
      "  [ 8  9]]\n",
      "\n",
      " [[10 11]\n",
      "  [12 13]\n",
      "  [14 15]\n",
      "  [16 17]\n",
      "  [18 19]]\n",
      "\n",
      " [[20 21]\n",
      "  [22 23]\n",
      "  [24 25]\n",
      "  [26 27]\n",
      "  [28 29]]]\n",
      "[11 15 19]\n"
     ]
    }
   ],
   "source": [
    "import numpy as np\n",
    "\n",
    "x = np.arange(30).reshape(3,5,2)\n",
    "print(x)\n",
    "print(x[1,::2,1])"
   ]
  },
  {
   "cell_type": "code",
   "execution_count": 73,
   "metadata": {},
   "outputs": [
    {
     "name": "stdout",
     "output_type": "stream",
     "text": [
      "[[0 1]\n",
      " [1 1]\n",
      " [2 2]]\n",
      "[1 2 4]\n",
      "[[0 1]]\n"
     ]
    }
   ],
   "source": [
    "import numpy as np\n",
    "\n",
    "x = np.array([[0, 1], [1, 1], [2, 2]])\n",
    "y = x.sum(-1)\n",
    "print(x)\n",
    "print(y)\n",
    "print(x[y < 2, :])"
   ]
  },
  {
   "cell_type": "code",
   "execution_count": 76,
   "metadata": {},
   "outputs": [
    {
     "name": "stdout",
     "output_type": "stream",
     "text": [
      "[1 5 9]\n"
     ]
    }
   ],
   "source": [
    "import numpy as np\n",
    "\n",
    "x = np.arange(12).reshape(3,4)\n",
    "x\n",
    "print(x[:,1])"
   ]
  },
  {
   "cell_type": "code",
   "execution_count": 78,
   "metadata": {},
   "outputs": [
    {
     "name": "stdout",
     "output_type": "stream",
     "text": [
      "(1, 4)\n"
     ]
    }
   ],
   "source": [
    "import numpy as np\n",
    "\n",
    "x = np.arange(12).reshape(3,4)\n",
    "x\n",
    "print(x[-1:,].shape)"
   ]
  },
  {
   "cell_type": "code",
   "execution_count": 80,
   "metadata": {},
   "outputs": [
    {
     "name": "stdout",
     "output_type": "stream",
     "text": [
      "[4 5 6 7]\n"
     ]
    }
   ],
   "source": [
    "import numpy as np\n",
    "\n",
    "x = np.arange(12).reshape(3,4)\n",
    "x\n",
    "print(x[-2])"
   ]
  },
  {
   "cell_type": "code",
   "execution_count": 91,
   "metadata": {},
   "outputs": [
    {
     "name": "stdout",
     "output_type": "stream",
     "text": [
      "[25 26 27 28 29]\n",
      "[[ 0  1  2  3  4]\n",
      " [ 5  6  7  8  9]\n",
      " [10 11 12 13 14]\n",
      " [15 16 17 18 19]\n",
      " [20 21 22 23 24]\n",
      " [25 26 27 28 29]]\n",
      "[[ 2]\n",
      " [ 7]\n",
      " [12]\n",
      " [17]\n",
      " [22]\n",
      " [27]]\n",
      "[[2 3 4]\n",
      " [7 8 9]]\n"
     ]
    }
   ],
   "source": [
    "x=np.arange(30).reshape(6,5)\n",
    "print(x[-1])\n",
    "print(x)\n",
    "print(x[:,2:3])\n",
    "print(x[0:2,2:])"
   ]
  },
  {
   "cell_type": "code",
   "execution_count": 95,
   "metadata": {},
   "outputs": [
    {
     "name": "stdout",
     "output_type": "stream",
     "text": [
      "[[[ 0  1  2  3  4]\n",
      "  [ 5  6  7  8  9]\n",
      "  [10 11 12 13 14]]]\n"
     ]
    },
    {
     "data": {
      "text/plain": [
       "array([[[ 1,  2],\n",
       "        [ 6,  7],\n",
       "        [11, 12]]])"
      ]
     },
     "execution_count": 95,
     "metadata": {},
     "output_type": "execute_result"
    }
   ],
   "source": [
    "x=np.arange(30).reshape(2,3,5)\n",
    "b=[True,False]\n",
    "print(x[b])\n",
    "x[b,:,1:3]"
   ]
  },
  {
   "cell_type": "code",
   "execution_count": 96,
   "metadata": {},
   "outputs": [
    {
     "name": "stdout",
     "output_type": "stream",
     "text": [
      "(1, 4)\n"
     ]
    }
   ],
   "source": [
    "import numpy as np\n",
    "\n",
    "x = np.arange(12).reshape(3,4)\n",
    "print(x[-1:,].shape)"
   ]
  },
  {
   "cell_type": "code",
   "execution_count": 97,
   "metadata": {},
   "outputs": [
    {
     "name": "stdout",
     "output_type": "stream",
     "text": [
      "[[0, 1], [2, 3]]\n"
     ]
    }
   ],
   "source": [
    "import numpy as np\n",
    "\n",
    "x = np.arange(4).reshape(2,2)\n",
    "print(x.tolist())"
   ]
  },
  {
   "cell_type": "code",
   "execution_count": 98,
   "metadata": {},
   "outputs": [
    {
     "name": "stdout",
     "output_type": "stream",
     "text": [
      "[0 1 4 9]\n"
     ]
    }
   ],
   "source": [
    "import numpy as np\n",
    "\n",
    "x = np.arange(4)\n",
    "print(x**2)"
   ]
  },
  {
   "cell_type": "code",
   "execution_count": 99,
   "metadata": {},
   "outputs": [
    {
     "name": "stdout",
     "output_type": "stream",
     "text": [
      "[1 5 9]\n"
     ]
    }
   ],
   "source": [
    "import numpy as np\n",
    "\n",
    "x = np.arange(12).reshape(3,4)\n",
    "print(x[:,1])"
   ]
  },
  {
   "cell_type": "code",
   "execution_count": 101,
   "metadata": {},
   "outputs": [
    {
     "name": "stdout",
     "output_type": "stream",
     "text": [
      "[[0 1]\n",
      " [3 4]]\n"
     ]
    },
    {
     "data": {
      "text/plain": [
       "[array([[0, 1],\n",
       "        [3, 4]]), array([[2],\n",
       "        [5]])]"
      ]
     },
     "execution_count": 101,
     "metadata": {},
     "output_type": "execute_result"
    }
   ],
   "source": [
    "import numpy as np\n",
    "\n",
    "x = np.arange(6).reshape(2,3)\n",
    "\n",
    "y = np.hsplit(x,(2,))\n",
    "print(y[0])\n",
    "y"
   ]
  },
  {
   "cell_type": "code",
   "execution_count": 102,
   "metadata": {},
   "outputs": [
    {
     "name": "stdout",
     "output_type": "stream",
     "text": [
      "[3 3 3 3]\n"
     ]
    }
   ],
   "source": [
    "import numpy as np\n",
    "\n",
    "print(np.repeat(3, 4))"
   ]
  },
  {
   "cell_type": "code",
   "execution_count": 106,
   "metadata": {},
   "outputs": [
    {
     "name": "stdout",
     "output_type": "stream",
     "text": [
      "[25 27]\n"
     ]
    }
   ],
   "source": [
    "import numpy as np\n",
    "\n",
    "x = np.arange(30).reshape(3,5,2)\n",
    "x\n",
    "print(x[-1, 2:-1, -1])"
   ]
  },
  {
   "cell_type": "code",
   "execution_count": 107,
   "metadata": {},
   "outputs": [
    {
     "ename": "ValueError",
     "evalue": "cannot reshape array of size 20 into shape (10,10)",
     "output_type": "error",
     "traceback": [
      "\u001b[0;31m---------------------------------------------------------------------------\u001b[0m",
      "\u001b[0;31mValueError\u001b[0m                                Traceback (most recent call last)",
      "\u001b[0;32m<ipython-input-107-7f01f3a53d15>\u001b[0m in \u001b[0;36m<module>\u001b[0;34m\u001b[0m\n\u001b[1;32m      1\u001b[0m \u001b[0;32mimport\u001b[0m \u001b[0mnumpy\u001b[0m \u001b[0;32mas\u001b[0m \u001b[0mnp\u001b[0m\u001b[0;34m\u001b[0m\u001b[0;34m\u001b[0m\u001b[0m\n\u001b[1;32m      2\u001b[0m \u001b[0;34m\u001b[0m\u001b[0m\n\u001b[0;32m----> 3\u001b[0;31m \u001b[0mx\u001b[0m \u001b[0;34m=\u001b[0m \u001b[0mnp\u001b[0m\u001b[0;34m.\u001b[0m\u001b[0marange\u001b[0m\u001b[0;34m(\u001b[0m\u001b[0;36m20\u001b[0m\u001b[0;34m)\u001b[0m\u001b[0;34m.\u001b[0m\u001b[0mreshape\u001b[0m\u001b[0;34m(\u001b[0m\u001b[0;36m10\u001b[0m\u001b[0;34m,\u001b[0m \u001b[0;36m10\u001b[0m\u001b[0;34m)\u001b[0m\u001b[0;34m\u001b[0m\u001b[0;34m\u001b[0m\u001b[0m\n\u001b[0m",
      "\u001b[0;31mValueError\u001b[0m: cannot reshape array of size 20 into shape (10,10)"
     ]
    }
   ],
   "source": [
    "import numpy as np\n",
    "\n",
    "x = np.arange(20).reshape(10, 10)"
   ]
  },
  {
   "cell_type": "code",
   "execution_count": 109,
   "metadata": {},
   "outputs": [
    {
     "name": "stdout",
     "output_type": "stream",
     "text": [
      "[11 15 19]\n"
     ]
    }
   ],
   "source": [
    "import numpy as np\n",
    "\n",
    "x = np.arange(30).reshape(3,5,2)\n",
    "x\n",
    "print(x[1,::2,1])"
   ]
  },
  {
   "cell_type": "code",
   "execution_count": 111,
   "metadata": {},
   "outputs": [
    {
     "name": "stdout",
     "output_type": "stream",
     "text": [
      "[4 5 6 7]\n"
     ]
    },
    {
     "data": {
      "text/plain": [
       "array([[ 0,  1,  2,  3],\n",
       "       [ 4,  5,  6,  7],\n",
       "       [ 8,  9, 10, 11]])"
      ]
     },
     "execution_count": 111,
     "metadata": {},
     "output_type": "execute_result"
    }
   ],
   "source": [
    "import numpy as np\n",
    "\n",
    "x = np.arange(12).reshape(3,4)\n",
    "print(x[-2])\n",
    "x"
   ]
  },
  {
   "cell_type": "code",
   "execution_count": 112,
   "metadata": {},
   "outputs": [
    {
     "data": {
      "text/plain": [
       "array([[0.34810977, 0.3682033 ],\n",
       "       [0.08309928, 0.01617996],\n",
       "       [0.29461189, 0.60145616]])"
      ]
     },
     "execution_count": 112,
     "metadata": {},
     "output_type": "execute_result"
    }
   ],
   "source": [
    "np.random.rand(3, 2)"
   ]
  },
  {
   "cell_type": "code",
   "execution_count": 113,
   "metadata": {},
   "outputs": [
    {
     "ename": "TypeError",
     "evalue": "random() takes at most 1 positional argument (2 given)",
     "output_type": "error",
     "traceback": [
      "\u001b[0;31m---------------------------------------------------------------------------\u001b[0m",
      "\u001b[0;31mTypeError\u001b[0m                                 Traceback (most recent call last)",
      "\u001b[0;32m<ipython-input-113-6ef113b99a13>\u001b[0m in \u001b[0;36m<module>\u001b[0;34m\u001b[0m\n\u001b[0;32m----> 1\u001b[0;31m \u001b[0mnp\u001b[0m\u001b[0;34m.\u001b[0m\u001b[0mrandom\u001b[0m\u001b[0;34m.\u001b[0m\u001b[0mrandom\u001b[0m\u001b[0;34m(\u001b[0m\u001b[0;36m3\u001b[0m\u001b[0;34m,\u001b[0m \u001b[0;36m2\u001b[0m\u001b[0;34m)\u001b[0m\u001b[0;34m\u001b[0m\u001b[0;34m\u001b[0m\u001b[0m\n\u001b[0m",
      "\u001b[0;32mmtrand.pyx\u001b[0m in \u001b[0;36mnumpy.random.mtrand.RandomState.random\u001b[0;34m()\u001b[0m\n",
      "\u001b[0;31mTypeError\u001b[0m: random() takes at most 1 positional argument (2 given)"
     ]
    }
   ],
   "source": [
    "np.random.random(3, 2)"
   ]
  },
  {
   "cell_type": "code",
   "execution_count": 114,
   "metadata": {},
   "outputs": [
    {
     "name": "stdout",
     "output_type": "stream",
     "text": [
      "[ True  True  True  True]\n"
     ]
    }
   ],
   "source": [
    "import numpy as np\n",
    "\n",
    "x = np.arange(4)\n",
    "y = np.arange(4)\n",
    "\n",
    "print(x == y)"
   ]
  },
  {
   "cell_type": "code",
   "execution_count": 115,
   "metadata": {},
   "outputs": [
    {
     "name": "stdout",
     "output_type": "stream",
     "text": [
      "(2, 2)\n"
     ]
    }
   ],
   "source": [
    "import numpy as np\n",
    "\n",
    "print(np.array(([1, 2], (3,4))).shape)"
   ]
  },
  {
   "cell_type": "code",
   "execution_count": 116,
   "metadata": {},
   "outputs": [
    {
     "name": "stdout",
     "output_type": "stream",
     "text": [
      "import numpy as np\n",
      "x = np.arange(6).reshape(2,3)\n",
      "print(x + 10, end='\\n\\n')\n",
      "print(x * 3, end='\\n\\n')\n",
      "print(x % 2)\n",
      "import numpy as np\n",
      "x = np.array([[-1, 1], [-2, 2]])\n",
      "y = np.array([[4, -4], [5, -5]])\n",
      "print(x + y, end='\\n\\n')\n",
      "print(x * y)\n",
      "import numpy as np\n",
      "x = np.array([[-1, 1], [-2, 2]])\n",
      "y = np.array([-10, 10])\n",
      "print(x * y)\n",
      "s1 = (4, 3); s2 = (3,)\n",
      "import numpy as np\n",
      "x = np.array([[0,1], [2,3]])\n",
      "print(np.square(x), end='\\n\\n')\n",
      "print(np.sin(x))\n",
      "import numpy as np\n",
      "x = np.array([[0,1], [2, 3]])\n",
      "print(x.sum(), end='\\n\\n')\n",
      "print(x.sum(axis=0), end='\\n\\n')\n",
      "print(x.sum(axis=1))\n",
      "import numpy as np\n",
      "x = np.array([[0,1], [2, 3]])\n",
      "print(x.sum(), end='\\n\\n')\n",
      "print(x.sum(axis=0), end='\\n\\n')\n",
      "print(x.sum(axis=2))\n",
      "import numpy as np\n",
      "x = np.array([[0,1], [2, 3]])\n",
      "print(x.sum(), end='\\n\\n')\n",
      "print(x.sum(axis=0), end='\\n\\n')\n",
      "print(x.sum(axis=1))\n",
      "import numpy as np\n",
      "\n",
      "x = np.arange(20).reshape(4,5)\n",
      "print(x.mean(axis=1))\n",
      "import numpy as np\n",
      "\n",
      "x = np.arange(20).reshape(4,5)\n",
      "print(x)\n",
      "print(x.mean(axis=1))\n",
      "import numpy as np\n",
      "\n",
      "x = np.arange(30).reshape(5,6)\n",
      "print(x.argmax(axis=1))\n",
      "import numpy as np\n",
      "\n",
      "x = np.arange(30).reshape(5,6)\n",
      "print(x)\n",
      "print(x.argmax(axis=1))\n",
      "import numpy as np\n",
      "\n",
      "x = np.arange(30).reshape(5,6)\n",
      "print(x)\n",
      "print(x.argmax(axis=1))\n",
      "print(x.argmax(axis=0))\n",
      "print(x.argmax(axis=4))\n",
      "import numpy as np\n",
      "\n",
      "x = np.arange(30).reshape(5,6)\n",
      "print(x)\n",
      "print(x.argmax(axis=1))\n",
      "print(x.argmax(axis=0))\n",
      "import numpy as np\n",
      "\n",
      "x = np.arange(4).reshape(2,2)\n",
      "print(x)\n",
      "print(np.isfinite(x))\n",
      "import numpy as np\n",
      "\n",
      "print(np.repeat(3, 4))\n",
      "import numpy as np\n",
      "y = np.arange(6).reshape(2,3)\n",
      "import numpy as np\n",
      "y = np.arange(6).reshape(2,3)\n",
      "print(np.square(y))\n",
      "import numpy as np\n",
      "y = np.arange(6).reshape(2,3)\n",
      "print(np.square(y))\n",
      "print(np.square(y)+5)\n",
      "import numpy as np\n",
      "y = np.random(-30,30).reshape(5,6)\n",
      "print(np.square(y))\n",
      "import numpy as np\n",
      "y = np.random.randint(-30,30,30).reshape(5,6)\n",
      "print(np.square(y))\n",
      "import numpy as np\n",
      "y = np.random.randint(-30,30,30).reshape(5,6)\n",
      "print(y)\n",
      "print(np.square(y))\n",
      "import numpy as np\n",
      "y = np.random.randint(-30,30,30).reshape(5,6)\n",
      "print(y)\n",
      "print(np.sum(axis=0))\n",
      "import numpy as np\n",
      "y = np.random.randint(-30,30,30).reshape(5,6)\n",
      "print(y)\n",
      "print(y.sum(axis=0))\n",
      "import numpy as np\n",
      "y = np.random.randint(-30,30,30).reshape(5,6)\n",
      "print(y)\n",
      "print(y.sum(axis=0))\n",
      "print(y.sum(axis=1))\n",
      "import numpy as np\n",
      "x = 10+2*np.random(50)\n",
      "import numpy as np\n",
      "x = 10+2*np.random.rand(50)\n",
      "import numpy as np\n",
      "x = 10+2*np.random.rand(50)\n",
      "print(x)\n",
      "import numpy as np\n",
      "x = 10+2*np.random.rand(50)\n",
      "print(x.mean())\n",
      "import numpy as np\n",
      "x = 10+2*np.random.rand(50)\n",
      "print(x)\n",
      "print(x.mean())\n",
      "import numpy as np\n",
      "x = 10+2*np.random.rand(50)\n",
      "print(x)\n",
      "print(x.mean())\n",
      "print(x.sd())\n",
      "import numpy as np\n",
      "x = 10+2*np.random.rand(50)\n",
      "print(x)\n",
      "print(x.mean())\n",
      "print(x.std())\n",
      "import numpy as np\n",
      "x = 10+2*np.random.rand(50)\n",
      "print(x)\n",
      "print(x.mean())\n",
      "print(x.std())\n",
      "print(x.var())\n",
      "x = np.array([5, 10, 15, 20, 25, 30, 35])\n",
      "print(x[1])  # Indexing\n",
      "print(x[1:6]) # Slicing\n",
      "print(x[1:6:3]) # Slicing\n",
      "#ARRAY-INDEXING\n",
      "import numpy as np\n",
      "y = np.array([[0, 1, 2],\n",
      "              [3, 4, 5]])\n",
      "print(y[1:2, 1:3]) \n",
      "print(y[1])   \n",
      "print(y[:, 1])\n",
      "x=np.range(90).rearange(9,10)\n",
      "x=np.array.range(90).rearange(9,10)\n",
      "x=np.range(90).rearange(9,10)\n",
      "x=np.array.range(90).rearange(9,10)\n",
      "x=np.arange(90).rearange(9,10)\n",
      "x=np.arange(90).reshape(9,10)\n",
      "x[4,5]\n",
      "x[4,5]\n",
      "x[5,4]\n",
      "z = np.array([[[-1, 1], [-2, 2]],\n",
      "              [[-4, 4], [-5, 5]],\n",
      "              [[-7, 7], [-9, 9]]])\n",
      "print(z[1,:,1]) # index 1 element in row of index 1\n",
      "print(z[1:,1,:]) # From all outer rows except the first, select 1st index element (which itself is an array) completely.\n",
      "print(z[2]) # print 2nd index element\n",
      "z = np.array([[[-1, 1], [-2, 2]],\n",
      "              [[-4, 4], [-5, 5]],\n",
      "              [[-7, 7], [-9, 9]]])\n",
      "print(z.shape)\n",
      "print(z[1,:,1]) # index 1 element in row of index 1\n",
      "print(z[1:,1,:]) # From all outer rows except the first, select 1st index element (which itself is an array) completely.\n",
      "print(z[2]) # print 2nd index element\n",
      "z = np.array([[[-1, 1], [-2, 2]],\n",
      "              [[-4, 4], [-5, 5]],\n",
      "              [[-7, 7], [-9, 9]]])\n",
      "print(z.shape)\n",
      "print(z[1,:,1]) # index 1 element in row of index 1\n",
      "print(z[1:,1,:]) # From all outer rows except the first, select 1st index element (which itself is an array) completely.\n",
      "print(z[2]) # print 2nd index element\n",
      "print(z[2,2])\n",
      "z = np.array([[[-1, 1], [-2, 2]],\n",
      "              [[-4, 4], [-5, 5]],\n",
      "              [[-7, 7], [-9, 9]]])\n",
      "print(z.shape)\n",
      "print(z[1,:,1]) # index 1 element in row of index 1\n",
      "print(z[1:,1,:]) # From all outer rows except the first, select 1st index element (which itself is an array) completely.\n",
      "print(z[2]) # print 2nd index element\n",
      "print(z[1,2])\n",
      "z = np.array([[[-1, 1], [-2, 2]],\n",
      "              [[-4, 4], [-5, 5]],\n",
      "              [[-7, 7], [-9, 9]]])\n",
      "print(z.shape)\n",
      "print(z[1,:,1]) # index 1 element in row of index 1\n",
      "print(z[1:,1,:]) # From all outer rows except the first, select 1st index element (which itself is an array) completely.\n",
      "print(z[2]) # print 2nd index element\n",
      "print(z[1,1])\n",
      "z = np.array([[[-1, 1], [-2, 2]],\n",
      "              [[-4, 4], [-5, 5]],\n",
      "              [[-7, 7], [-9, 9]]])\n",
      "print(z.shape)\n",
      "print(z[1,:,1]) # index 1 element in row of index 1\n",
      "print(z[1:,1,:]) # From all outer rows except the first, select 1st index element (which itself is an array) completely.\n",
      "print(z[2]) # print 2nd index element\n",
      "print(z[2,1])\n",
      "z = np.array([[[-1, 1], [-2, 2]],\n",
      "              [[-4, 4], [-5, 5]],\n",
      "              [[-7, 7], [-9, 9]]])\n",
      "print(z.shape)\n",
      "print(z[1,:,1]) # index 1 element in row of index 1\n",
      "print(z[1:,1,:]) # From all outer rows except the first, select 1st index element (which itself is an array) completely.\n",
      "print(z[2]) # print 2nd index element\n",
      "print(z[2,1])\n",
      "print(z[1,:,1])\n",
      "plot(z)\n",
      "z = np.array([[[-1, 1], [-2, 2]],\n",
      "              [[-4, 4], [-5, 5]],\n",
      "              [[-7, 7], [-9, 9]]])\n",
      "print(z.shape)\n",
      "print(z[1,:,1]) # index 1 element in row of index 1\n",
      "print(z[1:,1,:]) # From all outer rows except the first, select 1st index element (which itself is an array) completely.\n",
      "print(z[2]) # print 2nd index element\n",
      "print(z[2,1])\n",
      "print(z[1,:,1])\n",
      "print(z[0])\n",
      "z = np.array([[[-1, 1], [-2, 2]],\n",
      "              [[-4, 4], [-5, 5]],\n",
      "              [[-7, 7], [-9, 9]]])\n",
      "print(z.shape)\n",
      "print(z[1,:,1]) # index 1 element in row of index 1\n",
      "print(z[1:,1,:]) # From all outer rows except the first, select 1st index element (which itself is an array) completely.\n",
      "print(z[2]) # print 2nd index element\n",
      "print(z[2,1])\n",
      "print(z[1,:,1])\n",
      "print(z[0])\n",
      "print(z[1])\n",
      "print(z[2])\n",
      "z = np.array([[[-1, 1], [-2, 2]],\n",
      "              [[-4, 4], [-5, 5]],\n",
      "              [[-7, 7], [-9, 9]]])\n",
      "print(z.shape)\n",
      "print(z[1,:,1]) # index 1 element in row of index 1\n",
      "print(z[1:,1,:]) # From all outer rows except the first, select 1st index element (which itself is an array) completely.\n",
      "print(z[2]) # print 2nd index element\n",
      "\n",
      "print(z[2,1])\n",
      "print(z[1,:,1])\n",
      "print(z[0])\n",
      "print(z[1])\n",
      "print(z[2])\n",
      "z = np.array([[[-1, 1], [-2, 2]],\n",
      "              [[-4, 4], [-5, 5]],\n",
      "              [[-7, 7], [-9, 9]]])\n",
      "print(z.shape)\n",
      "print(z[1,:,1]) # index 1 element in row of index 1\n",
      "print(z[1:,1,:]) # From all outer rows except the first, select 1st index element (which itself is an array) completely.\n",
      "print(z[2]) # print 2nd index element\n",
      "\n",
      "print(z[2,1])\n",
      "print(z[1,:,1])\n",
      "print(z[0])\n",
      "print(z[1])\n",
      "print(z[2])\n",
      "z = np.array([[[-1, 1], [-2, 2]],\n",
      "              [[-4, 4], [-5, 5]],\n",
      "              [[-7, 7], [-9, 9]]])\n",
      "print(z.shape)\n",
      "print(z[1,:,1]) # index 1 element in row of index 1\n",
      "print(z[1:,1,:]) # From all outer rows except the first, select 1st index element (which itself is an array) completely.\n",
      "print(z[2]) # print 2nd index element\n",
      "\n",
      "#print(z[2,1])\n",
      "#print(z[1,:,1])\n",
      "print(z[0])\n",
      "print(z[1])\n",
      "print(z[2])\n",
      "x = np.array([[-1, 1], [-2, 2]])\n",
      "for row in x:\n",
      "    print('Row :',row)\n",
      "import numpy as np\n",
      "x = np.array([[0,1], [2, 3]])\n",
      "for a in np.nditer(x):\n",
      "    print(a)\n",
      "import numpy as np\n",
      "x = np.arange(10).reshape(2,5)\n",
      "condition = x % 2 == 0\n",
      "print(condition)\n",
      "print(x[condition])\n",
      "import numpy as np\n",
      "\n",
      "x = np.arange(30).reshape(3,5,2)\n",
      "import numpy as np\n",
      "\n",
      "x = np.arange(30).reshape(3,5,2)\n",
      "x\n",
      "import numpy as np\n",
      "\n",
      "x = np.arange(30).reshape(3,5,2)\n",
      "print(x[1,::2,1])\n",
      "import numpy as np\n",
      "\n",
      "x = np.arange(30).reshape(3,5,2)\n",
      "print(x)\n",
      "print(x[1,::2,1])\n",
      "import numpy as np\n",
      "\n",
      "x = np.array([[0, 1], [1, 1], [2, 2]])\n",
      "y = x.sum(-1)\n",
      "print(x[y < 2, :])\n",
      "import numpy as np\n",
      "\n",
      "x = np.array([[0, 1], [1, 1], [2, 2]])\n",
      "y = x.sum(-1)\n",
      "print(x)\n",
      "print(y)\n",
      "print(x[y < 2, :])\n",
      "import numpy as np\n",
      "\n",
      "x = np.array([[0, 1], [1, 1], [2, 2]])\n",
      "y = x.sum()\n",
      "print(x)\n",
      "print(y)\n",
      "print(x[y < 2, :])\n",
      "import numpy as np\n",
      "\n",
      "x = np.array([[0, 1], [1, 1], [2, 2]])\n",
      "y = x.sum(1)\n",
      "print(x)\n",
      "print(y)\n",
      "print(x[y < 2, :])\n",
      "import numpy as np\n",
      "\n",
      "x = np.array([[0, 1], [1, 1], [2, 2]])\n",
      "y = x.sum(-1)\n",
      "print(x)\n",
      "print(y)\n",
      "print(x[y < 2, :])\n",
      "import numpy as np\n",
      "\n",
      "x = np.array([[0, 1], [1, 1], [2, 2]])\n",
      "y = x.sum(-2)\n",
      "print(x)\n",
      "print(y)\n",
      "print(x[y < 2, :])\n",
      "import numpy as np\n",
      "\n",
      "x = np.array([[0, 1], [1, 1], [2, 2]])\n",
      "y = x.sum(-1)\n",
      "print(x)\n",
      "print(y)\n",
      "print(x[y < 2, :])\n",
      "import numpy as np\n",
      "\n",
      "x = np.array([[0, 1], [1, 1], [2, 2]])\n",
      "y = x.sum(0)\n",
      "print(x)\n",
      "print(y)\n",
      "print(x[y < 2, :])\n",
      "import numpy as np\n",
      "\n",
      "x = np.array([[0, 1], [1, 1], [2, 2]])\n",
      "y = x.sum(-1)\n",
      "print(x)\n",
      "print(y)\n",
      "print(x[y < 2, :])\n",
      "import numpy as np\n",
      "\n",
      "x = np.arange(12).reshape(3,4)\n",
      "#print(x[:,1])\n",
      "import numpy as np\n",
      "\n",
      "x = np.arange(12).reshape(3,4)\n",
      "x\n",
      "#print(x[:,1])\n",
      "import numpy as np\n",
      "\n",
      "x = np.arange(12).reshape(3,4)\n",
      "x\n",
      "print(x[:,1])\n",
      "import numpy as np\n",
      "\n",
      "x = np.arange(12).reshape(3,4)\n",
      "x\n",
      "import numpy as np\n",
      "\n",
      "x = np.arange(12).reshape(3,4)\n",
      "x\n",
      "print(x[-1:,].shape)\n",
      "import numpy as np\n",
      "\n",
      "x = np.arange(12).reshape(3,4)\n",
      "x\n",
      "import numpy as np\n",
      "\n",
      "x = np.arange(12).reshape(3,4)\n",
      "x\n",
      "print(x[-2])\n",
      "x=np.arange(30).reshape(5,6)\n",
      "x=np.arange(30).reshape(5,6)\n",
      "x\n",
      "x=np.arange(30).reshape(6,5)\n",
      "x\n",
      "x=np.arange(30).reshape(6,5)\n",
      "x[-1]\n",
      "x=np.arange(30).reshape(6,5)\n",
      "print(x[-1])\n",
      "print(x[:,:,:])\n",
      "x=np.arange(30).reshape(6,5)\n",
      "print(x[-1])\n",
      "print(x[:,:])\n",
      "x=np.arange(30).reshape(6,5)\n",
      "print(x[-1])\n",
      "print(x[:,2:])\n",
      "x=np.arange(30).reshape(6,5)\n",
      "print(x[-1])\n",
      "print(x[:,2:3])\n",
      "x=np.arange(30).reshape(6,5)\n",
      "print(x[-1])\n",
      "print(x)\n",
      "print(x[:,2:3])\n",
      "print(x[0:2,2:])\n",
      "x=np.arange(30).reshape(6,5)\n",
      "print(x[-1])\n",
      "print(x)\n",
      "print(x[:,2:3])\n",
      "print(x[0:2,2:])\n",
      "x=np.arange(30).reshape(2,3,5)\n",
      "x=np.arange(30).reshape(2,3,5)\n",
      "b=[True,False]\n",
      "x=np.arange(30).reshape(2,3,5)\n",
      "b=[True,False]\n",
      "x[b]\n",
      "x=np.arange(30).reshape(2,3,5)\n",
      "b=[True,False]\n",
      "print(x[b])\n",
      "x[b,:,1:3]\n",
      "import numpy as np\n",
      "\n",
      "x = np.arange(12).reshape(3,4)\n",
      "print(x[-1:,].shape)\n",
      "import numpy as np\n",
      "\n",
      "x = np.arange(4).reshape(2,2)\n",
      "print(x.tolist())\n",
      "import numpy as np\n",
      "\n",
      "x = np.arange(4)\n",
      "print(x**2)\n",
      "import numpy as np\n",
      "\n",
      "x = np.arange(12).reshape(3,4)\n",
      "print(x[:,1])\n",
      "import numpy as np\n",
      "\n",
      "x = np.arange(6).reshape(2,3)\n",
      "\n",
      "y = np.hsplit(x,(2,))\n",
      "print(y[0])\n",
      "import numpy as np\n",
      "\n",
      "x = np.arange(6).reshape(2,3)\n",
      "\n",
      "y = np.hsplit(x,(2,))\n",
      "print(y[0])\n",
      "y\n",
      "import numpy as np\n",
      "\n",
      "print(np.repeat(3, 4))\n",
      "import numpy as np\n",
      "\n",
      "x = np.arange(30).reshape(3,5,2)\n",
      "x\n",
      "#print(x[-1, 2:-1, -1])\n",
      "import numpy as np\n",
      "\n",
      "x = np.arange(30).reshape(3,5,2)\n",
      "x\n",
      "print(x[-1, 2:-1, -1])\n",
      "import numpy as np\n",
      "\n",
      "x = np.arange(30).reshape(3,5,2)\n",
      "x\n",
      "#print(x[-1, 2:-1, -1])\n",
      "import numpy as np\n",
      "\n",
      "x = np.arange(30).reshape(3,5,2)\n",
      "x\n",
      "print(x[-1, 2:-1, -1])\n",
      "import numpy as np\n",
      "\n",
      "x = np.arange(20).reshape(10, 10)\n",
      "import numpy as np\n",
      "\n",
      "x = np.arange(30).reshape(3,5,2)\n",
      "x\n",
      "#print(x[1,::2,1])\n",
      "import numpy as np\n",
      "\n",
      "x = np.arange(30).reshape(3,5,2)\n",
      "x\n",
      "print(x[1,::2,1])\n",
      "import numpy as np\n",
      "\n",
      "x = np.arange(12).reshape(3,4)\n",
      "print(x[-2])\n",
      "import numpy as np\n",
      "\n",
      "x = np.arange(12).reshape(3,4)\n",
      "print(x[-2])\n",
      "x\n",
      "np.random.rand(3, 2)\n",
      "np.random.random(3, 2)\n",
      "import numpy as np\n",
      "\n",
      "x = np.arange(4)\n",
      "y = np.arange(4)\n",
      "\n",
      "print(x == y)\n",
      "import numpy as np\n",
      "\n",
      "print(np.array(([1, 2], (3,4))).shape)\n",
      "%history\n"
     ]
    }
   ],
   "source": [
    "%history"
   ]
  },
  {
   "cell_type": "code",
   "execution_count": null,
   "metadata": {},
   "outputs": [],
   "source": []
  }
 ],
 "metadata": {
  "kernelspec": {
   "display_name": "Python 3",
   "language": "python",
   "name": "python3"
  },
  "language_info": {
   "codemirror_mode": {
    "name": "ipython",
    "version": 3
   },
   "file_extension": ".py",
   "mimetype": "text/x-python",
   "name": "python",
   "nbconvert_exporter": "python",
   "pygments_lexer": "ipython3",
   "version": "3.7.4"
  }
 },
 "nbformat": 4,
 "nbformat_minor": 2
}
